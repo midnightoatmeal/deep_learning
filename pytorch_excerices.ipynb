{
  "nbformat": 4,
  "nbformat_minor": 0,
  "metadata": {
    "colab": {
      "provenance": []
    },
    "kernelspec": {
      "name": "python3",
      "display_name": "Python 3"
    },
    "language_info": {
      "name": "python"
    }
  },
  "cells": [
    {
      "cell_type": "code",
      "execution_count": null,
      "metadata": {
        "colab": {
          "base_uri": "https://localhost:8080/"
        },
        "id": "wABifa78lJ6y",
        "outputId": "fe9e84f2-684b-4332-a1c5-0876320cf735"
      },
      "outputs": [
        {
          "output_type": "execute_result",
          "data": {
            "text/plain": [
              "tensor([[0.5126, 0.1656, 0.7351, 0.7165, 0.3404, 0.8859, 0.6712],\n",
              "        [0.7020, 0.2489, 0.6061, 0.4248, 0.8085, 0.9156, 0.6777],\n",
              "        [0.4985, 0.7223, 0.1592, 0.2122, 0.6081, 0.5516, 0.4949],\n",
              "        [0.1839, 0.5942, 0.1165, 0.0390, 0.4320, 0.2667, 0.6886],\n",
              "        [0.5408, 0.7126, 0.5075, 0.9810, 0.1396, 0.3061, 0.0933],\n",
              "        [0.7353, 0.0658, 0.2394, 0.3629, 0.2059, 0.6023, 0.1235],\n",
              "        [0.7904, 0.4439, 0.0139, 0.2200, 0.2606, 0.9927, 0.9972]])"
            ]
          },
          "metadata": {},
          "execution_count": 2
        }
      ],
      "source": [
        "# 1. create a tensor\n",
        "import torch\n",
        "random_tensor = torch.rand(7, 7)\n",
        "random_tensor"
      ]
    },
    {
      "cell_type": "code",
      "source": [
        "# 2. Matrix multiplication\n",
        "\n",
        "random_tensor_2 = torch.rand(1, 7)\n",
        "random_tensor_2\n",
        "\n",
        "matmul = random_tensor * random_tensor_2.T\n",
        "print(matmul)\n",
        "print(matmul.shape)"
      ],
      "metadata": {
        "colab": {
          "base_uri": "https://localhost:8080/"
        },
        "id": "Pw2Z7vncl10u",
        "outputId": "96ea3075-85a8-4774-f1fd-38aa5bbc78d2"
      },
      "execution_count": null,
      "outputs": [
        {
          "output_type": "stream",
          "name": "stdout",
          "text": [
            "tensor([[0.0102, 0.0033, 0.0147, 0.0143, 0.0068, 0.0177, 0.0134],\n",
            "        [0.5457, 0.1934, 0.4712, 0.3302, 0.6285, 0.7117, 0.5268],\n",
            "        [0.0954, 0.1383, 0.0305, 0.0406, 0.1164, 0.1056, 0.0947],\n",
            "        [0.1255, 0.4055, 0.0795, 0.0266, 0.2948, 0.1820, 0.4700],\n",
            "        [0.4567, 0.6019, 0.4286, 0.8285, 0.1179, 0.2585, 0.0788],\n",
            "        [0.2575, 0.0230, 0.0838, 0.1271, 0.0721, 0.2109, 0.0432],\n",
            "        [0.5598, 0.3144, 0.0098, 0.1558, 0.1846, 0.7031, 0.7063]])\n",
            "torch.Size([7, 7])\n"
          ]
        }
      ]
    },
    {
      "cell_type": "code",
      "source": [
        "# random seed\n",
        "\n",
        "seed = 0\n",
        "torch.manual_seed(seed)\n",
        "\n",
        "random_tensor = torch.rand(seed)\n",
        "random_tensor\n",
        "\n",
        "torch.manual_seed(seed)\n",
        "\n",
        "random_tensor_2 = torch.rand(seed)\n",
        "random_tensor_2\n",
        "\n",
        "random_tensor == random_tensor_2"
      ],
      "metadata": {
        "colab": {
          "base_uri": "https://localhost:8080/"
        },
        "id": "Es7x4G0rmRnY",
        "outputId": "33dd0423-64f9-4f95-ecd3-aec5a55cbac5"
      },
      "execution_count": null,
      "outputs": [
        {
          "output_type": "execute_result",
          "data": {
            "text/plain": [
              "tensor([], dtype=torch.bool)"
            ]
          },
          "metadata": {},
          "execution_count": 15
        }
      ]
    },
    {
      "cell_type": "code",
      "source": [
        "x = torch.rand(2, 3)\n",
        "y = torch.rand(2, 3)\n",
        "print(x, y, x.shape, y.shape)\n",
        "\n",
        "z = torch.matmul(x, y.T)\n",
        "z.shape"
      ],
      "metadata": {
        "colab": {
          "base_uri": "https://localhost:8080/"
        },
        "id": "-jpWyx9KmsH6",
        "outputId": "69c4557e-8e13-46ee-9982-6e9e1aa5f557"
      },
      "execution_count": null,
      "outputs": [
        {
          "output_type": "stream",
          "name": "stdout",
          "text": [
            "tensor([[0.0508, 0.2630, 0.8405],\n",
            "        [0.4968, 0.2515, 0.1168]]) tensor([[0.0321, 0.0780, 0.3986],\n",
            "        [0.7742, 0.7703, 0.0178]]) torch.Size([2, 3]) torch.Size([2, 3])\n"
          ]
        },
        {
          "output_type": "execute_result",
          "data": {
            "text/plain": [
              "torch.Size([2, 2])"
            ]
          },
          "metadata": {},
          "execution_count": 28
        }
      ]
    },
    {
      "cell_type": "code",
      "source": [
        "random_tensor1 = torch.arange(1, 11)\n",
        "random_tensor1"
      ],
      "metadata": {
        "colab": {
          "base_uri": "https://localhost:8080/"
        },
        "id": "miGZuvLFG5fa",
        "outputId": "4048c38e-b3fc-40ed-e92e-f630bc4dc6e1"
      },
      "execution_count": null,
      "outputs": [
        {
          "output_type": "execute_result",
          "data": {
            "text/plain": [
              "tensor([ 1,  2,  3,  4,  5,  6,  7,  8,  9, 10])"
            ]
          },
          "metadata": {},
          "execution_count": 30
        }
      ]
    },
    {
      "cell_type": "code",
      "source": [
        "z = torch.min(random_tensor1)"
      ],
      "metadata": {
        "colab": {
          "base_uri": "https://localhost:8080/"
        },
        "id": "hFikIeSMIqSp",
        "outputId": "7a390810-959b-44fa-8ed6-e67f5c6d4858"
      },
      "execution_count": null,
      "outputs": [
        {
          "output_type": "execute_result",
          "data": {
            "text/plain": [
              "torch.Size([])"
            ]
          },
          "metadata": {},
          "execution_count": 35
        }
      ]
    },
    {
      "cell_type": "markdown",
      "source": [],
      "metadata": {
        "id": "073Z-z9wJjRe"
      }
    },
    {
      "cell_type": "markdown",
      "source": [],
      "metadata": {
        "id": "zTD6AXazJjOx"
      }
    },
    {
      "cell_type": "code",
      "source": [
        "random_tensor_3 = torch.rand(1, 1, 1, 10)\n",
        "squeezed_tensor = torch.squeeze(random_tensor_3)\n",
        "print(squeezed_tensor)\n",
        "\n",
        "\n",
        "print(random_tensor_3, squeezed_tensor)\n",
        "random_tensor_3 == squeezed_tensor"
      ],
      "metadata": {
        "colab": {
          "base_uri": "https://localhost:8080/"
        },
        "id": "z-EwdZYEI4bd",
        "outputId": "d9726b9f-71e1-4326-ac0e-8c479a5989b4"
      },
      "execution_count": null,
      "outputs": [
        {
          "output_type": "stream",
          "name": "stdout",
          "text": [
            "tensor([0.6581, 0.4897, 0.3875, 0.1918, 0.8458, 0.1278, 0.7048, 0.3319, 0.2588,\n",
            "        0.5898])\n",
            "tensor([[[[0.6581, 0.4897, 0.3875, 0.1918, 0.8458, 0.1278, 0.7048, 0.3319,\n",
            "           0.2588, 0.5898]]]]) tensor([0.6581, 0.4897, 0.3875, 0.1918, 0.8458, 0.1278, 0.7048, 0.3319, 0.2588,\n",
            "        0.5898])\n"
          ]
        },
        {
          "output_type": "execute_result",
          "data": {
            "text/plain": [
              "tensor([[[[True, True, True, True, True, True, True, True, True, True]]]])"
            ]
          },
          "metadata": {},
          "execution_count": 53
        }
      ]
    },
    {
      "cell_type": "code",
      "source": [],
      "metadata": {
        "id": "3M_5l6NCJPtD"
      },
      "execution_count": null,
      "outputs": []
    }
  ]
}