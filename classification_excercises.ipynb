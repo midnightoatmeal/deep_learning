{
  "nbformat": 4,
  "nbformat_minor": 0,
  "metadata": {
    "colab": {
      "provenance": []
    },
    "kernelspec": {
      "name": "python3",
      "display_name": "Python 3"
    },
    "language_info": {
      "name": "python"
    }
  },
  "cells": [
    {
      "cell_type": "markdown",
      "source": [
        "## Excercises for Classification problems"
      ],
      "metadata": {
        "id": "I_81hBRADieK"
      }
    },
    {
      "cell_type": "code",
      "execution_count": 1,
      "metadata": {
        "colab": {
          "base_uri": "https://localhost:8080/",
          "height": 35
        },
        "id": "2ulh4RuLDOaG",
        "outputId": "bd811c88-28b0-45f6-b431-8f3d4d373c0f"
      },
      "outputs": [
        {
          "output_type": "execute_result",
          "data": {
            "text/plain": [
              "'2.6.0+cu124'"
            ],
            "application/vnd.google.colaboratory.intrinsic+json": {
              "type": "string"
            }
          },
          "metadata": {},
          "execution_count": 1
        }
      ],
      "source": [
        "import numpy as np\n",
        "import pandas as pd\n",
        "import sklearn\n",
        "import matplotlib.pyplot as plt\n",
        "import torch\n",
        "from torch import nn\n",
        "torch.__version__"
      ]
    },
    {
      "cell_type": "markdown",
      "source": [
        "## 1. Make a binary classification dataset with Scikit-Learn's make_moons() function"
      ],
      "metadata": {
        "id": "Y2WoevXpDrpV"
      }
    },
    {
      "cell_type": "code",
      "source": [
        "# creating a toy dataset (make_moons())\n",
        "from sklearn.datasets import make_moons\n",
        "\n",
        "n_samples = 1000\n",
        "\n",
        "X, y = make_moons(n_samples,\n",
        "                  noise=0.02,\n",
        "                  random_state=42)\n",
        "\n",
        "len(X), len(y)"
      ],
      "metadata": {
        "colab": {
          "base_uri": "https://localhost:8080/"
        },
        "id": "arcvKDjsDfIq",
        "outputId": "f6f2b604-402b-4767-e75a-774fc13bcb0b"
      },
      "execution_count": 2,
      "outputs": [
        {
          "output_type": "execute_result",
          "data": {
            "text/plain": [
              "(1000, 1000)"
            ]
          },
          "metadata": {},
          "execution_count": 2
        }
      ]
    },
    {
      "cell_type": "code",
      "source": [
        "# turning data into tensors\n",
        "\n",
        "X = torch.from_numpy(X).type(torch.float)\n",
        "y = torch.from_numpy(y).type(torch.float)"
      ],
      "metadata": {
        "id": "uhGwyHUDEL7R"
      },
      "execution_count": 3,
      "outputs": []
    },
    {
      "cell_type": "code",
      "source": [
        "y.type, X.type"
      ],
      "metadata": {
        "colab": {
          "base_uri": "https://localhost:8080/"
        },
        "id": "6DIxeq3XEewa",
        "outputId": "1891a4fa-a968-4dd9-91b1-f183555f6e3f"
      },
      "execution_count": 4,
      "outputs": [
        {
          "output_type": "execute_result",
          "data": {
            "text/plain": [
              "(<function Tensor.type>, <function Tensor.type>)"
            ]
          },
          "metadata": {},
          "execution_count": 4
        }
      ]
    },
    {
      "cell_type": "code",
      "source": [
        "# splitting the data into training and testing data\n",
        "\n",
        "from sklearn.model_selection import train_test_split\n",
        "\n",
        "X_train, X_test, y_train, y_test = train_test_split(X,\n",
        "                                                    y,\n",
        "                                                    test_size=0.2,\n",
        "                                                    random_state=42)\n",
        "\n",
        "len(X_train), len(y_train), len(X_test), len(y_test)"
      ],
      "metadata": {
        "colab": {
          "base_uri": "https://localhost:8080/"
        },
        "id": "dej87gcoFDfd",
        "outputId": "fcae3d27-6eab-447e-f621-b2b44e023dab"
      },
      "execution_count": 5,
      "outputs": [
        {
          "output_type": "execute_result",
          "data": {
            "text/plain": [
              "(800, 800, 200, 200)"
            ]
          },
          "metadata": {},
          "execution_count": 5
        }
      ]
    },
    {
      "cell_type": "code",
      "source": [
        "# creating a table of the dataset using pandas\n",
        "\n",
        "import pandas as pd\n",
        "\n",
        "moons = pd.DataFrame({\"X1\": X[:, 0],\n",
        "                      \"X2\": X[:, 1],\n",
        "                      \"label\": y})\n",
        "\n",
        "moons.head(10)"
      ],
      "metadata": {
        "colab": {
          "base_uri": "https://localhost:8080/",
          "height": 359
        },
        "id": "GOHftnxeFziF",
        "outputId": "806873fc-05a5-4c0b-a46f-592453003f98"
      },
      "execution_count": 6,
      "outputs": [
        {
          "output_type": "execute_result",
          "data": {
            "text/plain": [
              "         X1        X2  label\n",
              "0 -0.003312  0.383379    1.0\n",
              "1  0.943511 -0.481472    1.0\n",
              "2  0.925759 -0.449535    1.0\n",
              "3  0.430470 -0.366058    1.0\n",
              "4 -0.847017  0.527905    0.0\n",
              "5  0.574662 -0.368780    1.0\n",
              "6  0.296083 -0.210375    1.0\n",
              "7 -0.008543  0.430013    1.0\n",
              "8  1.629695 -0.278017    1.0\n",
              "9  0.666163  0.776073    0.0"
            ],
            "text/html": [
              "\n",
              "  <div id=\"df-a5240f30-e8b0-4acd-8403-ce6981baea5c\" class=\"colab-df-container\">\n",
              "    <div>\n",
              "<style scoped>\n",
              "    .dataframe tbody tr th:only-of-type {\n",
              "        vertical-align: middle;\n",
              "    }\n",
              "\n",
              "    .dataframe tbody tr th {\n",
              "        vertical-align: top;\n",
              "    }\n",
              "\n",
              "    .dataframe thead th {\n",
              "        text-align: right;\n",
              "    }\n",
              "</style>\n",
              "<table border=\"1\" class=\"dataframe\">\n",
              "  <thead>\n",
              "    <tr style=\"text-align: right;\">\n",
              "      <th></th>\n",
              "      <th>X1</th>\n",
              "      <th>X2</th>\n",
              "      <th>label</th>\n",
              "    </tr>\n",
              "  </thead>\n",
              "  <tbody>\n",
              "    <tr>\n",
              "      <th>0</th>\n",
              "      <td>-0.003312</td>\n",
              "      <td>0.383379</td>\n",
              "      <td>1.0</td>\n",
              "    </tr>\n",
              "    <tr>\n",
              "      <th>1</th>\n",
              "      <td>0.943511</td>\n",
              "      <td>-0.481472</td>\n",
              "      <td>1.0</td>\n",
              "    </tr>\n",
              "    <tr>\n",
              "      <th>2</th>\n",
              "      <td>0.925759</td>\n",
              "      <td>-0.449535</td>\n",
              "      <td>1.0</td>\n",
              "    </tr>\n",
              "    <tr>\n",
              "      <th>3</th>\n",
              "      <td>0.430470</td>\n",
              "      <td>-0.366058</td>\n",
              "      <td>1.0</td>\n",
              "    </tr>\n",
              "    <tr>\n",
              "      <th>4</th>\n",
              "      <td>-0.847017</td>\n",
              "      <td>0.527905</td>\n",
              "      <td>0.0</td>\n",
              "    </tr>\n",
              "    <tr>\n",
              "      <th>5</th>\n",
              "      <td>0.574662</td>\n",
              "      <td>-0.368780</td>\n",
              "      <td>1.0</td>\n",
              "    </tr>\n",
              "    <tr>\n",
              "      <th>6</th>\n",
              "      <td>0.296083</td>\n",
              "      <td>-0.210375</td>\n",
              "      <td>1.0</td>\n",
              "    </tr>\n",
              "    <tr>\n",
              "      <th>7</th>\n",
              "      <td>-0.008543</td>\n",
              "      <td>0.430013</td>\n",
              "      <td>1.0</td>\n",
              "    </tr>\n",
              "    <tr>\n",
              "      <th>8</th>\n",
              "      <td>1.629695</td>\n",
              "      <td>-0.278017</td>\n",
              "      <td>1.0</td>\n",
              "    </tr>\n",
              "    <tr>\n",
              "      <th>9</th>\n",
              "      <td>0.666163</td>\n",
              "      <td>0.776073</td>\n",
              "      <td>0.0</td>\n",
              "    </tr>\n",
              "  </tbody>\n",
              "</table>\n",
              "</div>\n",
              "    <div class=\"colab-df-buttons\">\n",
              "\n",
              "  <div class=\"colab-df-container\">\n",
              "    <button class=\"colab-df-convert\" onclick=\"convertToInteractive('df-a5240f30-e8b0-4acd-8403-ce6981baea5c')\"\n",
              "            title=\"Convert this dataframe to an interactive table.\"\n",
              "            style=\"display:none;\">\n",
              "\n",
              "  <svg xmlns=\"http://www.w3.org/2000/svg\" height=\"24px\" viewBox=\"0 -960 960 960\">\n",
              "    <path d=\"M120-120v-720h720v720H120Zm60-500h600v-160H180v160Zm220 220h160v-160H400v160Zm0 220h160v-160H400v160ZM180-400h160v-160H180v160Zm440 0h160v-160H620v160ZM180-180h160v-160H180v160Zm440 0h160v-160H620v160Z\"/>\n",
              "  </svg>\n",
              "    </button>\n",
              "\n",
              "  <style>\n",
              "    .colab-df-container {\n",
              "      display:flex;\n",
              "      gap: 12px;\n",
              "    }\n",
              "\n",
              "    .colab-df-convert {\n",
              "      background-color: #E8F0FE;\n",
              "      border: none;\n",
              "      border-radius: 50%;\n",
              "      cursor: pointer;\n",
              "      display: none;\n",
              "      fill: #1967D2;\n",
              "      height: 32px;\n",
              "      padding: 0 0 0 0;\n",
              "      width: 32px;\n",
              "    }\n",
              "\n",
              "    .colab-df-convert:hover {\n",
              "      background-color: #E2EBFA;\n",
              "      box-shadow: 0px 1px 2px rgba(60, 64, 67, 0.3), 0px 1px 3px 1px rgba(60, 64, 67, 0.15);\n",
              "      fill: #174EA6;\n",
              "    }\n",
              "\n",
              "    .colab-df-buttons div {\n",
              "      margin-bottom: 4px;\n",
              "    }\n",
              "\n",
              "    [theme=dark] .colab-df-convert {\n",
              "      background-color: #3B4455;\n",
              "      fill: #D2E3FC;\n",
              "    }\n",
              "\n",
              "    [theme=dark] .colab-df-convert:hover {\n",
              "      background-color: #434B5C;\n",
              "      box-shadow: 0px 1px 3px 1px rgba(0, 0, 0, 0.15);\n",
              "      filter: drop-shadow(0px 1px 2px rgba(0, 0, 0, 0.3));\n",
              "      fill: #FFFFFF;\n",
              "    }\n",
              "  </style>\n",
              "\n",
              "    <script>\n",
              "      const buttonEl =\n",
              "        document.querySelector('#df-a5240f30-e8b0-4acd-8403-ce6981baea5c button.colab-df-convert');\n",
              "      buttonEl.style.display =\n",
              "        google.colab.kernel.accessAllowed ? 'block' : 'none';\n",
              "\n",
              "      async function convertToInteractive(key) {\n",
              "        const element = document.querySelector('#df-a5240f30-e8b0-4acd-8403-ce6981baea5c');\n",
              "        const dataTable =\n",
              "          await google.colab.kernel.invokeFunction('convertToInteractive',\n",
              "                                                    [key], {});\n",
              "        if (!dataTable) return;\n",
              "\n",
              "        const docLinkHtml = 'Like what you see? Visit the ' +\n",
              "          '<a target=\"_blank\" href=https://colab.research.google.com/notebooks/data_table.ipynb>data table notebook</a>'\n",
              "          + ' to learn more about interactive tables.';\n",
              "        element.innerHTML = '';\n",
              "        dataTable['output_type'] = 'display_data';\n",
              "        await google.colab.output.renderOutput(dataTable, element);\n",
              "        const docLink = document.createElement('div');\n",
              "        docLink.innerHTML = docLinkHtml;\n",
              "        element.appendChild(docLink);\n",
              "      }\n",
              "    </script>\n",
              "  </div>\n",
              "\n",
              "\n",
              "    <div id=\"df-c4108300-1b5d-4025-aec1-3b5edddb3fbe\">\n",
              "      <button class=\"colab-df-quickchart\" onclick=\"quickchart('df-c4108300-1b5d-4025-aec1-3b5edddb3fbe')\"\n",
              "                title=\"Suggest charts\"\n",
              "                style=\"display:none;\">\n",
              "\n",
              "<svg xmlns=\"http://www.w3.org/2000/svg\" height=\"24px\"viewBox=\"0 0 24 24\"\n",
              "     width=\"24px\">\n",
              "    <g>\n",
              "        <path d=\"M19 3H5c-1.1 0-2 .9-2 2v14c0 1.1.9 2 2 2h14c1.1 0 2-.9 2-2V5c0-1.1-.9-2-2-2zM9 17H7v-7h2v7zm4 0h-2V7h2v10zm4 0h-2v-4h2v4z\"/>\n",
              "    </g>\n",
              "</svg>\n",
              "      </button>\n",
              "\n",
              "<style>\n",
              "  .colab-df-quickchart {\n",
              "      --bg-color: #E8F0FE;\n",
              "      --fill-color: #1967D2;\n",
              "      --hover-bg-color: #E2EBFA;\n",
              "      --hover-fill-color: #174EA6;\n",
              "      --disabled-fill-color: #AAA;\n",
              "      --disabled-bg-color: #DDD;\n",
              "  }\n",
              "\n",
              "  [theme=dark] .colab-df-quickchart {\n",
              "      --bg-color: #3B4455;\n",
              "      --fill-color: #D2E3FC;\n",
              "      --hover-bg-color: #434B5C;\n",
              "      --hover-fill-color: #FFFFFF;\n",
              "      --disabled-bg-color: #3B4455;\n",
              "      --disabled-fill-color: #666;\n",
              "  }\n",
              "\n",
              "  .colab-df-quickchart {\n",
              "    background-color: var(--bg-color);\n",
              "    border: none;\n",
              "    border-radius: 50%;\n",
              "    cursor: pointer;\n",
              "    display: none;\n",
              "    fill: var(--fill-color);\n",
              "    height: 32px;\n",
              "    padding: 0;\n",
              "    width: 32px;\n",
              "  }\n",
              "\n",
              "  .colab-df-quickchart:hover {\n",
              "    background-color: var(--hover-bg-color);\n",
              "    box-shadow: 0 1px 2px rgba(60, 64, 67, 0.3), 0 1px 3px 1px rgba(60, 64, 67, 0.15);\n",
              "    fill: var(--button-hover-fill-color);\n",
              "  }\n",
              "\n",
              "  .colab-df-quickchart-complete:disabled,\n",
              "  .colab-df-quickchart-complete:disabled:hover {\n",
              "    background-color: var(--disabled-bg-color);\n",
              "    fill: var(--disabled-fill-color);\n",
              "    box-shadow: none;\n",
              "  }\n",
              "\n",
              "  .colab-df-spinner {\n",
              "    border: 2px solid var(--fill-color);\n",
              "    border-color: transparent;\n",
              "    border-bottom-color: var(--fill-color);\n",
              "    animation:\n",
              "      spin 1s steps(1) infinite;\n",
              "  }\n",
              "\n",
              "  @keyframes spin {\n",
              "    0% {\n",
              "      border-color: transparent;\n",
              "      border-bottom-color: var(--fill-color);\n",
              "      border-left-color: var(--fill-color);\n",
              "    }\n",
              "    20% {\n",
              "      border-color: transparent;\n",
              "      border-left-color: var(--fill-color);\n",
              "      border-top-color: var(--fill-color);\n",
              "    }\n",
              "    30% {\n",
              "      border-color: transparent;\n",
              "      border-left-color: var(--fill-color);\n",
              "      border-top-color: var(--fill-color);\n",
              "      border-right-color: var(--fill-color);\n",
              "    }\n",
              "    40% {\n",
              "      border-color: transparent;\n",
              "      border-right-color: var(--fill-color);\n",
              "      border-top-color: var(--fill-color);\n",
              "    }\n",
              "    60% {\n",
              "      border-color: transparent;\n",
              "      border-right-color: var(--fill-color);\n",
              "    }\n",
              "    80% {\n",
              "      border-color: transparent;\n",
              "      border-right-color: var(--fill-color);\n",
              "      border-bottom-color: var(--fill-color);\n",
              "    }\n",
              "    90% {\n",
              "      border-color: transparent;\n",
              "      border-bottom-color: var(--fill-color);\n",
              "    }\n",
              "  }\n",
              "</style>\n",
              "\n",
              "      <script>\n",
              "        async function quickchart(key) {\n",
              "          const quickchartButtonEl =\n",
              "            document.querySelector('#' + key + ' button');\n",
              "          quickchartButtonEl.disabled = true;  // To prevent multiple clicks.\n",
              "          quickchartButtonEl.classList.add('colab-df-spinner');\n",
              "          try {\n",
              "            const charts = await google.colab.kernel.invokeFunction(\n",
              "                'suggestCharts', [key], {});\n",
              "          } catch (error) {\n",
              "            console.error('Error during call to suggestCharts:', error);\n",
              "          }\n",
              "          quickchartButtonEl.classList.remove('colab-df-spinner');\n",
              "          quickchartButtonEl.classList.add('colab-df-quickchart-complete');\n",
              "        }\n",
              "        (() => {\n",
              "          let quickchartButtonEl =\n",
              "            document.querySelector('#df-c4108300-1b5d-4025-aec1-3b5edddb3fbe button');\n",
              "          quickchartButtonEl.style.display =\n",
              "            google.colab.kernel.accessAllowed ? 'block' : 'none';\n",
              "        })();\n",
              "      </script>\n",
              "    </div>\n",
              "\n",
              "    </div>\n",
              "  </div>\n"
            ],
            "application/vnd.google.colaboratory.intrinsic+json": {
              "type": "dataframe",
              "variable_name": "moons",
              "summary": "{\n  \"name\": \"moons\",\n  \"rows\": 1000,\n  \"fields\": [\n    {\n      \"column\": \"X1\",\n      \"properties\": {\n        \"dtype\": \"float32\",\n        \"num_unique_values\": 1000,\n        \"samples\": [\n          0.5108429193496704,\n          0.7316856384277344,\n          1.2323678731918335\n        ],\n        \"semantic_type\": \"\",\n        \"description\": \"\"\n      }\n    },\n    {\n      \"column\": \"X2\",\n      \"properties\": {\n        \"dtype\": \"float32\",\n        \"num_unique_values\": 1000,\n        \"samples\": [\n          -0.37396571040153503,\n          0.6999642252922058,\n          -0.46531474590301514\n        ],\n        \"semantic_type\": \"\",\n        \"description\": \"\"\n      }\n    },\n    {\n      \"column\": \"label\",\n      \"properties\": {\n        \"dtype\": \"float32\",\n        \"num_unique_values\": 2,\n        \"samples\": [\n          0.0,\n          1.0\n        ],\n        \"semantic_type\": \"\",\n        \"description\": \"\"\n      }\n    }\n  ]\n}"
            }
          },
          "metadata": {},
          "execution_count": 6
        }
      ]
    },
    {
      "cell_type": "code",
      "source": [
        "# visualizing the data using matplotlib\n",
        "\n",
        "\n",
        "plt.scatter(x=X[:, 0],\n",
        "            y=X[:, 1],\n",
        "            c=y,\n",
        "            cmap=plt.cm.plasma)\n",
        "plt.show();"
      ],
      "metadata": {
        "colab": {
          "base_uri": "https://localhost:8080/",
          "height": 430
        },
        "id": "Fun44mG6GyHb",
        "outputId": "ca403c41-8f3d-4e6a-9da5-e3c27137d74d"
      },
      "execution_count": 7,
      "outputs": [
        {
          "output_type": "display_data",
          "data": {
            "text/plain": [
              "<Figure size 640x480 with 1 Axes>"
            ],
            "image/png": "[encoded data removed]"
          },
          "metadata": {}
        }
      ]
    },
    {
      "cell_type": "code",
      "source": [
        "# building a model by subclassing nn.Module that incorporates non-linear activation fn\n",
        "\n",
        "from torch import nn\n",
        "\n",
        "class MoonModelV0(nn.Module):\n",
        "  def __init__(self):\n",
        "    super().__init__()\n",
        "    self.layer_1 = nn.Linear(in_features=2, out_features=64)\n",
        "    self.relu = nn.ReLU()\n",
        "    self.layer_2 = nn.Linear(in_features=64, out_features=64)\n",
        "    self.relu = nn.ReLU()\n",
        "    self.layer_3 = nn.Linear(in_features=64, out_features=32)\n",
        "    self.relu = nn.ReLU()\n",
        "    self.layer_4 = nn.Linear(in_features=32, out_features=1)\n",
        "\n",
        "  def forward(self, x):\n",
        "    return self.layer_4(self.relu(self.layer_3(self.relu(self.layer_2(self.relu(self.layer_1(x)))))))\n",
        "\n",
        "\n",
        "model_0 = MoonModelV0()\n",
        "model_0"
      ],
      "metadata": {
        "colab": {
          "base_uri": "https://localhost:8080/"
        },
        "id": "iphRKEJrGSKK",
        "outputId": "5f23ab1b-e124-48ea-a7a9-a9683db28f6b"
      },
      "execution_count": 27,
      "outputs": [
        {
          "output_type": "execute_result",
          "data": {
            "text/plain": [
              "MoonModelV0(\n",
              "  (layer_1): Linear(in_features=2, out_features=64, bias=True)\n",
              "  (relu): ReLU()\n",
              "  (layer_2): Linear(in_features=64, out_features=64, bias=True)\n",
              "  (layer_3): Linear(in_features=64, out_features=32, bias=True)\n",
              "  (layer_4): Linear(in_features=32, out_features=1, bias=True)\n",
              ")"
            ]
          },
          "metadata": {},
          "execution_count": 27
        }
      ]
    },
    {
      "cell_type": "code",
      "source": [
        "model_0.state_dict()"
      ],
      "metadata": {
        "colab": {
          "base_uri": "https://localhost:8080/"
        },
        "id": "7Djw1GCxHpEE",
        "outputId": "abe88836-142d-4156-e32e-3517e951d2b9"
      },
      "execution_count": 28,
      "outputs": [
        {
          "output_type": "execute_result",
          "data": {
            "text/plain": [
              "OrderedDict([('layer_1.weight',\n",
              "              tensor([[ 0.6492, -0.1243],\n",
              "                      [-0.5176, -0.3943],\n",
              "                      [ 0.0790,  0.4701],\n",
              "                      [ 0.3085,  0.2044],\n",
              "                      [-0.6114, -0.1337],\n",
              "                      [ 0.4438,  0.2876],\n",
              "                      [-0.5085, -0.3151],\n",
              "                      [ 0.6189,  0.2619],\n",
              "                      [-0.2955, -0.3369],\n",
              "                      [-0.4587,  0.0818],\n",
              "                      [-0.2716, -0.0449],\n",
              "                      [-0.3811, -0.5526],\n",
              "                      [-0.4390, -0.1666],\n",
              "                      [ 0.1806, -0.3050],\n",
              "                      [-0.6564,  0.4888],\n",
              "                      [-0.2461, -0.6267],\n",
              "                      [ 0.1246,  0.0884],\n",
              "                      [ 0.6399,  0.1852],\n",
              "                      [ 0.2769, -0.1056],\n",
              "                      [ 0.7025,  0.0371],\n",
              "                      [ 0.6952, -0.3125],\n",
              "                      [-0.5681, -0.4687],\n",
              "                      [-0.2948, -0.1905],\n",
              "                      [-0.2546,  0.1608],\n",
              "                      [-0.0090,  0.5199],\n",
              "                      [ 0.4104, -0.5687],\n",
              "                      [-0.2326,  0.0669],\n",
              "                      [-0.5900,  0.1757],\n",
              "                      [ 0.2839, -0.0313],\n",
              "                      [ 0.3754,  0.5256],\n",
              "                      [ 0.1373,  0.4143],\n",
              "                      [-0.5591, -0.3357],\n",
              "                      [ 0.3636, -0.2129],\n",
              "                      [ 0.4736,  0.0322],\n",
              "                      [ 0.6958, -0.2610],\n",
              "                      [ 0.2523, -0.0172],\n",
              "                      [ 0.5900, -0.2223],\n",
              "                      [ 0.0272,  0.1190],\n",
              "                      [-0.6434,  0.1100],\n",
              "                      [-0.4686,  0.6055],\n",
              "                      [ 0.4211,  0.5217],\n",
              "                      [-0.2034,  0.0180],\n",
              "                      [ 0.4558,  0.3644],\n",
              "                      [-0.3804, -0.4618],\n",
              "                      [ 0.6607,  0.6242],\n",
              "                      [-0.6189, -0.4603],\n",
              "                      [-0.4073,  0.4436],\n",
              "                      [-0.1073,  0.1004],\n",
              "                      [-0.4715, -0.5455],\n",
              "                      [ 0.4018, -0.2269],\n",
              "                      [ 0.0423,  0.0969],\n",
              "                      [-0.3574,  0.4173],\n",
              "                      [-0.5291,  0.2023],\n",
              "                      [-0.2604,  0.2469],\n",
              "                      [-0.5565, -0.3262],\n",
              "                      [-0.2477, -0.6761],\n",
              "                      [ 0.1938, -0.6376],\n",
              "                      [ 0.5283, -0.3167],\n",
              "                      [-0.2712, -0.0566],\n",
              "                      [ 0.6871,  0.3127],\n",
              "                      [-0.0551,  0.6198],\n",
              "                      [-0.6540,  0.3625],\n",
              "                      [-0.2827, -0.3250],\n",
              "                      [-0.2550,  0.1156]])),\n",
              "             ('layer_1.bias',\n",
              "              tensor([-0.0042, -0.5080,  0.3357,  0.4646, -0.3608,  0.3829,  0.1059, -0.6171,\n",
              "                       0.1920,  0.6050,  0.5508,  0.4892,  0.2092, -0.5460,  0.6425, -0.1006,\n",
              "                       0.5144, -0.2017,  0.4536,  0.4798, -0.6054,  0.4925,  0.2053, -0.3159,\n",
              "                       0.3442, -0.2825, -0.4037, -0.5475, -0.2095, -0.2499, -0.6216, -0.4709,\n",
              "                      -0.3034,  0.0387,  0.7005, -0.6017,  0.4301,  0.4299, -0.5185,  0.3009,\n",
              "                       0.3512,  0.2173,  0.6147,  0.6508, -0.0489,  0.0541,  0.0591,  0.5107,\n",
              "                       0.4419, -0.1196,  0.1078,  0.6150, -0.0374, -0.5767,  0.2331,  0.2627,\n",
              "                      -0.5276, -0.5616,  0.0387,  0.0317, -0.5171,  0.3642, -0.5430,  0.3670])),\n",
              "             ('layer_2.weight',\n",
              "              tensor([[-0.0299,  0.1242,  0.0307,  ...,  0.0458,  0.1032, -0.0531],\n",
              "                      [ 0.0152,  0.1103,  0.0895,  ...,  0.0639, -0.0209,  0.0179],\n",
              "                      [ 0.0494,  0.0659, -0.0776,  ..., -0.0447, -0.0425, -0.0939],\n",
              "                      ...,\n",
              "                      [-0.0946,  0.1174,  0.0862,  ...,  0.0425, -0.0438, -0.1043],\n",
              "                      [-0.0716,  0.1236,  0.0494,  ..., -0.0131,  0.1235,  0.1158],\n",
              "                      [ 0.1003, -0.0482,  0.0358,  ..., -0.0684, -0.1107,  0.0722]])),\n",
              "             ('layer_2.bias',\n",
              "              tensor([-0.0977, -0.0511, -0.0293,  0.1227, -0.1023, -0.0609, -0.1049,  0.0204,\n",
              "                       0.0605,  0.0095,  0.0743, -0.0633,  0.0473, -0.0753,  0.0391, -0.0205,\n",
              "                       0.1076, -0.0638,  0.0799, -0.0619, -0.0540, -0.0205, -0.1165, -0.0732,\n",
              "                      -0.0733,  0.0624, -0.0040, -0.0178,  0.0329, -0.0533, -0.0540, -0.0167,\n",
              "                      -0.0804, -0.0120, -0.1206, -0.0675, -0.1242, -0.0948,  0.0507,  0.0706,\n",
              "                      -0.0161,  0.1130,  0.0720,  0.1243,  0.0705,  0.0152,  0.0938,  0.0900,\n",
              "                       0.1058,  0.0478, -0.1041, -0.1061,  0.0269,  0.0807,  0.0916, -0.0079,\n",
              "                      -0.0388,  0.0607, -0.0507,  0.0328,  0.0425,  0.0436,  0.0812,  0.0519])),\n",
              "             ('layer_3.weight',\n",
              "              tensor([[-1.1608e-01,  3.5510e-02,  9.1239e-02,  ..., -6.4595e-02,\n",
              "                        6.5852e-02, -1.0820e-01],\n",
              "                      [-5.5581e-02, -3.3516e-02,  9.6470e-02,  ..., -1.8471e-02,\n",
              "                        7.4034e-03, -8.5253e-02],\n",
              "                      [-8.8426e-02, -8.0907e-02,  7.1328e-02,  ...,  1.1680e-01,\n",
              "                        3.1756e-02, -6.8457e-02],\n",
              "                      ...,\n",
              "                      [-8.0446e-02,  6.4845e-02,  6.9577e-02,  ...,  9.1120e-02,\n",
              "                        7.3788e-02, -1.1083e-01],\n",
              "                      [-8.7074e-02,  1.0750e-01,  1.1175e-01,  ..., -3.6795e-02,\n",
              "                       -9.5145e-02,  9.0089e-02],\n",
              "                      [ 9.8050e-05,  1.1401e-01,  8.0929e-02,  ..., -8.0431e-02,\n",
              "                        6.6004e-02, -4.9542e-02]])),\n",
              "             ('layer_3.bias',\n",
              "              tensor([ 0.0236,  0.0346,  0.0025,  0.0154,  0.0814, -0.1027, -0.0035,  0.0674,\n",
              "                      -0.0394, -0.0059, -0.0448,  0.0883, -0.0748,  0.0770,  0.0884,  0.1206,\n",
              "                       0.0696, -0.0059,  0.0544, -0.1033,  0.0070,  0.0301, -0.0363,  0.0885,\n",
              "                      -0.1129, -0.1115, -0.0768,  0.0595, -0.0049, -0.0428,  0.0007, -0.0407])),\n",
              "             ('layer_4.weight',\n",
              "              tensor([[ 0.0400, -0.1085,  0.1179, -0.1031, -0.0799,  0.1554,  0.0815,  0.0273,\n",
              "                       -0.0961, -0.0801, -0.0778,  0.0992, -0.1362, -0.0997,  0.0719, -0.1013,\n",
              "                        0.0033, -0.0093,  0.1593, -0.0628,  0.1459,  0.1479, -0.0788,  0.0355,\n",
              "                        0.1302, -0.0660, -0.0983,  0.1077,  0.0962, -0.0376, -0.1345,  0.1480]])),\n",
              "             ('layer_4.bias', tensor([-0.0269]))])"
            ]
          },
          "metadata": {},
          "execution_count": 28
        }
      ]
    },
    {
      "cell_type": "code",
      "source": [
        "# set up a binary classification compatitable loss function and optimizer\n",
        "\n",
        "loss_fn = nn.BCEWithLogitsLoss()\n",
        "\n",
        "# creating an optimizer\n",
        "\n",
        "optimizer = torch.optim.SGD(params=model_0.parameters(),\n",
        "                         lr=0.1)\n"
      ],
      "metadata": {
        "id": "ZItUpHkPJNZh"
      },
      "execution_count": 10,
      "outputs": []
    },
    {
      "cell_type": "code",
      "source": [
        "# creating an accuracy function\n",
        "\n",
        "def accuracy_fn(y_true, y_pred):\n",
        "  correct = torch.eq(y_true, y_pred).sum().item()\n",
        "  acc = (correct / len(y_pred) * 100)\n",
        "  return acc"
      ],
      "metadata": {
        "id": "6KJoQl-_Lf1C"
      },
      "execution_count": 11,
      "outputs": []
    },
    {
      "cell_type": "code",
      "source": [
        "# device agnostic code\n",
        "\n",
        "device = \"cuda\" if torch.cuda.is_available() else \"cpu\"\n",
        "device"
      ],
      "metadata": {
        "colab": {
          "base_uri": "https://localhost:8080/",
          "height": 35
        },
        "id": "eQT4UzsFKiab",
        "outputId": "8ec927df-404a-439c-a34a-80f888cf4afa"
      },
      "execution_count": 12,
      "outputs": [
        {
          "output_type": "execute_result",
          "data": {
            "text/plain": [
              "'cpu'"
            ],
            "application/vnd.google.colaboratory.intrinsic+json": {
              "type": "string"
            }
          },
          "metadata": {},
          "execution_count": 12
        }
      ]
    },
    {
      "cell_type": "code",
      "source": [
        "X_train[:10], y_test[:10]"
      ],
      "metadata": {
        "colab": {
          "base_uri": "https://localhost:8080/"
        },
        "id": "KR-QjoS9LUi5",
        "outputId": "264ce5bf-fd03-477c-8dd5-2291d7f34850"
      },
      "execution_count": 13,
      "outputs": [
        {
          "output_type": "execute_result",
          "data": {
            "text/plain": [
              "(tensor([[ 1.9662,  0.1979],\n",
              "         [-0.9464,  0.3998],\n",
              "         [-0.0919,  1.0144],\n",
              "         [-0.1109,  0.9923],\n",
              "         [ 0.3757, -0.2678],\n",
              "         [-0.2271,  0.9593],\n",
              "         [ 0.5278, -0.3628],\n",
              "         [ 0.0918,  0.0996],\n",
              "         [ 0.4558,  0.8965],\n",
              "         [-0.9654,  0.2190]]),\n",
              " tensor([1., 0., 1., 0., 1., 1., 0., 0., 1., 0.]))"
            ]
          },
          "metadata": {},
          "execution_count": 13
        }
      ]
    },
    {
      "cell_type": "code",
      "source": [],
      "metadata": {
        "id": "qLWrgvlvOPPa"
      },
      "execution_count": 13,
      "outputs": []
    },
    {
      "cell_type": "code",
      "source": [
        "print(\"X_train:\", X_train.shape)\n",
        "print(\"X_test:\", X_test.shape)\n",
        "print(\"y_train:\", y_train.shape)\n",
        "print(\"y_test:\", y_test.shape)"
      ],
      "metadata": {
        "colab": {
          "base_uri": "https://localhost:8080/"
        },
        "id": "Xdm58M2TLUgV",
        "outputId": "396bd4a7-d971-4c7c-98c0-07e5c1bc1603"
      },
      "execution_count": 14,
      "outputs": [
        {
          "output_type": "stream",
          "name": "stdout",
          "text": [
            "X_train: torch.Size([800, 2])\n",
            "X_test: torch.Size([200, 2])\n",
            "y_train: torch.Size([800])\n",
            "y_test: torch.Size([200])\n"
          ]
        }
      ]
    },
    {
      "cell_type": "code",
      "source": [
        "y_train = y_train.unsqueeze(1)  # Shape: [800, 1]\n",
        "y_test = y_test.unsqueeze(1)    # Shape: [200, 1]"
      ],
      "metadata": {
        "id": "plBlYh-9jZoV"
      },
      "execution_count": 15,
      "outputs": []
    },
    {
      "cell_type": "code",
      "source": [
        "# checking the logits\n",
        "\n",
        "model_0.eval()\n",
        "with torch.inference_mode():\n",
        "  y_logits = model_0(X_test)\n",
        "y_logits[:5]\n"
      ],
      "metadata": {
        "colab": {
          "base_uri": "https://localhost:8080/"
        },
        "id": "_3W--c2FLUd8",
        "outputId": "936b71ae-8841-4188-8b54-58e141d66eca"
      },
      "execution_count": 16,
      "outputs": [
        {
          "output_type": "execute_result",
          "data": {
            "text/plain": [
              "tensor([[ 0.0223],\n",
              "        [-0.3793],\n",
              "        [ 0.0410],\n",
              "        [-0.4284],\n",
              "        [-0.1736]])"
            ]
          },
          "metadata": {},
          "execution_count": 16
        }
      ]
    },
    {
      "cell_type": "code",
      "source": [
        "y_pred_probs = torch.sigmoid(y_logits)"
      ],
      "metadata": {
        "id": "4jrIWJ1Qb86s"
      },
      "execution_count": 17,
      "outputs": []
    },
    {
      "cell_type": "code",
      "source": [
        "print(X_test.shape)"
      ],
      "metadata": {
        "colab": {
          "base_uri": "https://localhost:8080/"
        },
        "id": "1Df0J7HLLUbk",
        "outputId": "c64aabd1-7d4d-47d1-9dc2-088aa0dbef7b"
      },
      "execution_count": 18,
      "outputs": [
        {
          "output_type": "stream",
          "name": "stdout",
          "text": [
            "torch.Size([200, 2])\n"
          ]
        }
      ]
    },
    {
      "cell_type": "code",
      "source": [
        "# activation function\n",
        "\n",
        "\n",
        "y_pred_probs = torch.sigmoid(y_logits)\n",
        "y_pred_probs[:5]"
      ],
      "metadata": {
        "colab": {
          "base_uri": "https://localhost:8080/"
        },
        "id": "cZHJdQK0dIs4",
        "outputId": "bfdf2985-c0d8-439c-8c2b-40421672545a"
      },
      "execution_count": 19,
      "outputs": [
        {
          "output_type": "execute_result",
          "data": {
            "text/plain": [
              "tensor([[0.5056],\n",
              "        [0.4063],\n",
              "        [0.5103],\n",
              "        [0.3945],\n",
              "        [0.4567]])"
            ]
          },
          "metadata": {},
          "execution_count": 19
        }
      ]
    },
    {
      "cell_type": "code",
      "source": [
        "# Step 1: Get logits from model\n",
        "model_0.eval()\n",
        "with torch.inference_mode():\n",
        "    y_logits = model_0(X_test)\n",
        "\n",
        "# Step 2: Convert logits to probabilities\n",
        "y_pred_probs = torch.sigmoid(y_logits)\n",
        "\n",
        "# Step 3: Convert probabilities to labels\n",
        "y_pred_labels = torch.round(y_pred_probs)\n",
        "\n",
        "print(y_pred_labels.squeeze()[:10])"
      ],
      "metadata": {
        "colab": {
          "base_uri": "https://localhost:8080/"
        },
        "id": "SroTQg-WQPH8",
        "outputId": "37bd500d-20e2-4c00-aab7-a620069db594"
      },
      "execution_count": 20,
      "outputs": [
        {
          "output_type": "stream",
          "name": "stdout",
          "text": [
            "tensor([1., 0., 1., 0., 0., 0., 0., 0., 1., 0.])\n"
          ]
        }
      ]
    },
    {
      "cell_type": "code",
      "source": [
        "# Setup\n",
        "loss_fn = nn.BCEWithLogitsLoss()  # or BCELoss() + sigmoid\n",
        "optimizer = torch.optim.Adam(model_0.parameters(), lr=0.01)\n",
        "epochs = 1000\n",
        "\n",
        "for epoch in range(epochs):\n",
        "    model_0.train()\n",
        "\n",
        "    # Forward pass\n",
        "    y_logits = model_0(X_train)\n",
        "    loss = loss_fn(y_logits, y_train)\n",
        "\n",
        "    # Backward pass\n",
        "    optimizer.zero_grad()\n",
        "    loss.backward()\n",
        "    optimizer.step()\n",
        "\n",
        "    # Evaluate on test set\n",
        "    model_0.eval()\n",
        "    with torch.inference_mode():\n",
        "        test_logits = model_0(X_test)\n",
        "        test_loss = loss_fn(test_logits, y_test)\n",
        "\n",
        "        # Accuracy (optional)\n",
        "        test_pred_probs = torch.sigmoid(test_logits)\n",
        "        test_preds = torch.round(test_pred_probs)\n",
        "        acc = (test_preds == y_test).float().mean()\n",
        "\n",
        "    if epoch % 100 == 0:\n",
        "        print(f\"Epoch {epoch}: Train loss: {loss.item():.4f}, Test loss: {test_loss.item():.4f}, Test acc: {acc:.4f}\")"
      ],
      "metadata": {
        "colab": {
          "base_uri": "https://localhost:8080/"
        },
        "id": "9NMHV6GlQYPW",
        "outputId": "c31732f1-52e1-40e9-a863-f590bce7a048"
      },
      "execution_count": 29,
      "outputs": [
        {
          "output_type": "stream",
          "name": "stdout",
          "text": [
            "Epoch 0: Train loss: 0.6954, Test loss: 0.6628, Test acc: 0.7650\n",
            "Epoch 100: Train loss: 0.0000, Test loss: 0.0000, Test acc: 1.0000\n",
            "Epoch 200: Train loss: 0.0000, Test loss: 0.0000, Test acc: 1.0000\n",
            "Epoch 300: Train loss: 0.0000, Test loss: 0.0000, Test acc: 1.0000\n",
            "Epoch 400: Train loss: 0.0000, Test loss: 0.0000, Test acc: 1.0000\n",
            "Epoch 500: Train loss: 0.0000, Test loss: 0.0000, Test acc: 1.0000\n",
            "Epoch 600: Train loss: 0.0000, Test loss: 0.0000, Test acc: 1.0000\n",
            "Epoch 700: Train loss: 0.0000, Test loss: 0.0000, Test acc: 1.0000\n",
            "Epoch 800: Train loss: 0.0000, Test loss: 0.0000, Test acc: 1.0000\n",
            "Epoch 900: Train loss: 0.0000, Test loss: 0.0000, Test acc: 1.0000\n"
          ]
        }
      ]
    },
    {
      "cell_type": "code",
      "source": [
        "model_0.eval()\n",
        "with torch.inference_mode():\n",
        "  y_test_logits = model_0(X_test)\n",
        "  y_test_probs = torch.sigmoid(y_test_logits)\n",
        "  y_test_preds = torch.round(y_test_probs)\n",
        "\n",
        "  test_acc = accuracy_fn(y_test, test_preds)\n",
        "  print(f\"Test accuracy: {test_acc:.2f}%\")"
      ],
      "metadata": {
        "colab": {
          "base_uri": "https://localhost:8080/"
        },
        "id": "SBSc4eMTcFoD",
        "outputId": "50f83fdc-0d30-4257-b436-ad9440904584"
      },
      "execution_count": 30,
      "outputs": [
        {
          "output_type": "stream",
          "name": "stdout",
          "text": [
            "Test accuracy: 100.00%\n"
          ]
        }
      ]
    },
    {
      "cell_type": "code",
      "source": [
        "# visualize the model's performance\n",
        "\n",
        "import numpy as np\n",
        "\n",
        "x_min, x_max = X[:, 0].min() - 0.1, X[:, 0].max() + 0.1\n",
        "y_min, y_max = X[:, 1].min() - 0.1, X[:, 1].max() + 0.1\n",
        "xx, yy = np.meshgrid(np.linspace(x_min, x_max, 100),\n",
        "                     np.linspace(y_min, y_max, 100))\n",
        "\n",
        "grid = torch.tensor(np.c_[xx.ravel(), yy.ravel()], dtype=torch.float32)\n",
        "\n",
        "model_0.eval()\n",
        "with torch.inference_mode():\n",
        "  logits = model_0(grid)\n",
        "  probs = torch.sigmoid(logits)\n",
        "  preds = torch.round(probs).reshape(xx.shape)\n",
        "\n",
        "# plot\n",
        "plt.figure(figsize=(8, 6))\n",
        "plt.contourf(xx, yy, preds, cmap=\"coolwarm\", edgecolors=\"k\")\n",
        "plt.title(\"Decision Boundary of Trained Model\")\n",
        "plt.xlabel(\"Feature 1\")\n",
        "plt.ylabel(\"Feature 2\")\n",
        "plt.show();"
      ],
      "metadata": {
        "colab": {
          "base_uri": "https://localhost:8080/",
          "height": 588
        },
        "id": "mRkpEFKci9vR",
        "outputId": "de03a970-98f5-40c7-b063-756fd538e7f1"
      },
      "execution_count": 33,
      "outputs": [
        {
          "output_type": "stream",
          "name": "stderr",
          "text": [
            "<ipython-input-33-f069c702e0ce>:20: UserWarning: The following kwargs were not used by contour: 'edgecolors'\n",
            "  plt.contourf(xx, yy, preds, cmap=\"coolwarm\", edgecolors=\"k\")\n"
          ]
        },
        {
          "output_type": "display_data",
          "data": {
            "text/plain": [
              "<Figure size 800x600 with 1 Axes>"
            ],
            "image/png": "[encoded data removed]"
          },
          "metadata": {}
        }
      ]
    },
    {
      "cell_type": "code",
      "source": [],
      "metadata": {
        "id": "A0j9GtYnjn8q"
      },
      "execution_count": 21,
      "outputs": []
    }
  ]
}